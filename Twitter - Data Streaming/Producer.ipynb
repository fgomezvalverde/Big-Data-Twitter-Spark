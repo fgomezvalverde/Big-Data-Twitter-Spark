{
 "cells": [
  {
   "cell_type": "markdown",
   "metadata": {},
   "source": [
    "# Imports"
   ]
  },
  {
   "cell_type": "code",
   "execution_count": 1,
   "metadata": {},
   "outputs": [],
   "source": [
    "import oauth2\n",
    "import json\n",
    "import time\n",
    "import datetime\n",
    "import os\n",
    "import sys\n",
    "\n",
    "from kafka import KafkaProducer"
   ]
  },
  {
   "cell_type": "markdown",
   "metadata": {},
   "source": [
    "# Configuration"
   ]
  },
  {
   "cell_type": "code",
   "execution_count": 2,
   "metadata": {},
   "outputs": [],
   "source": [
    "\n",
    "start_date = \"2020-01-01\" \n",
    "end_date = \"2020-03-03\"\n",
    "consumerKey=\"XXXXXXXXXXXXXXXXXX\"\n",
    "consumerSecret=\"XXXXXXXXXXXXXXXXXX\"\n",
    "accessToken=\"XXXXXXXXXXXXXXXXXX\"\n",
    "accessTokenSecret=\"XXXXXXXXXXXXXXXXXX\"\n",
    "keyword= \"superbowl\"\n",
    "lang=\"en\"\n",
    "kafka_url=\"localhost:9092\"\n",
    "topic_name= \"raw-twitter\"\n",
    "\n",
    "\n",
    "req_count = 0\n",
    "min_faves=60000\n",
    "change=10000 \n",
    "interval = 500 "
   ]
  },
  {
   "cell_type": "markdown",
   "metadata": {},
   "source": [
    "# Authentication Method"
   ]
  },
  {
   "cell_type": "code",
   "execution_count": 3,
   "metadata": {},
   "outputs": [],
   "source": [
    "def oauth_req(url, http_method=\"GET\", post_body=b\"\", http_headers=None):\n",
    "    global req_count,consumerKey,consumerSecret,accessToken,accessTokenSecret\n",
    "    req_count += 1\n",
    "    consumer = oauth2.Consumer(key=consumerKey, secret=consumerSecret)\n",
    "    token = oauth2.Token(key=accessToken, secret=accessTokenSecret)\n",
    "    client = oauth2.Client(consumer, token)\n",
    "    resp, content = client.request( url, method=http_method, body=post_body , headers=http_headers )\n",
    "    return content"
   ]
  },
  {
   "cell_type": "markdown",
   "metadata": {},
   "source": [
    "# Get Tweets URL Construction"
   ]
  },
  {
   "cell_type": "code",
   "execution_count": 4,
   "metadata": {},
   "outputs": [],
   "source": [
    "def get_tweets(min_faves):\n",
    "    global keyword, start_date, end_date, lang\n",
    "    request = 'https://api.twitter.com/1.1/search/tweets.json?' + '&q=' + keyword + '&lang=' + lang + '%20since%3A' + start_date + '%20until%3A' + end_date + '%20min_faves%3A' + str(min_faves) +'&result_type=mixed&count=100'\n",
    "    return oauth_req( request)"
   ]
  },
  {
   "cell_type": "markdown",
   "metadata": {},
   "source": [
    "# Publish Message to Kakfa"
   ]
  },
  {
   "cell_type": "code",
   "execution_count": 5,
   "metadata": {},
   "outputs": [],
   "source": [
    "def connect_kafka_producer():\n",
    "    producer = None\n",
    "    try:\n",
    "        producer = KafkaProducer(bootstrap_servers=[kafka_url], api_version=(0, 10))\n",
    "    except Exception as ex:\n",
    "        print('Exception while connecting Kafka')\n",
    "        print(str(ex))\n",
    "    finally:\n",
    "        return producer\n",
    "    \n",
    "def publish_message(producer_instance, key, value):\n",
    "    try:\n",
    "        key_bytes = bytes(key, encoding='utf-8')\n",
    "        value_bytes = bytes(value, encoding='utf-8')\n",
    "        producer_instance.send(topic_name, key=key_bytes, value=value_bytes)\n",
    "        producer_instance.flush()\n",
    "        print('Message published successfully.')\n",
    "    except Exception as ex:\n",
    "        print('Exception in publishing message')\n",
    "        print(str(ex))"
   ]
  },
  {
   "cell_type": "markdown",
   "metadata": {},
   "source": [
    "# KeepAlive Process"
   ]
  },
  {
   "cell_type": "code",
   "execution_count": 7,
   "metadata": {},
   "outputs": [
    {
     "name": "stdout",
     "output_type": "stream",
     "text": [
      "Message published successfully.\n",
      "Sleeping\n",
      "Waking Up\n",
      "At request: 2  Total Tweets Collected: 0 with Min Faves: 60000\n",
      "Message published successfully.\n",
      "Sleeping\n",
      "Waking Up\n",
      "At request: 3  Total Tweets Collected: 0 with Min Faves: 50000\n",
      "Message published successfully.\n",
      "Sleeping\n",
      "Waking Up\n",
      "At request: 4  Total Tweets Collected: 1 with Min Faves: 40000\n",
      "Message published successfully.\n",
      "Sleeping\n",
      "Waking Up\n",
      "At request: 5  Total Tweets Collected: 1 with Min Faves: 30000\n",
      "Message published successfully.\n",
      "Sleeping\n",
      "Waking Up\n",
      "At request: 6  Total Tweets Collected: 1 with Min Faves: 20000\n",
      "Message published successfully.\n",
      "Sleeping\n",
      "Waking Up\n",
      "At request: 7  Total Tweets Collected: 4 with Min Faves: 10000\n",
      "Message published successfully.\n",
      "Sleeping\n",
      "Waking Up\n",
      "At request: 8  Total Tweets Collected: 4 with Min Faves: 9500\n",
      "Message published successfully.\n",
      "Sleeping\n",
      "Waking Up\n",
      "At request: 9  Total Tweets Collected: 4 with Min Faves: 9000\n",
      "Message published successfully.\n",
      "Sleeping\n",
      "Waking Up\n",
      "At request: 10  Total Tweets Collected: 2 with Min Faves: 8500\n",
      "Message published successfully.\n",
      "Sleeping\n",
      "Waking Up\n",
      "At request: 11  Total Tweets Collected: 4 with Min Faves: 8000\n",
      "Message published successfully.\n",
      "Sleeping\n",
      "Waking Up\n",
      "At request: 12  Total Tweets Collected: 7 with Min Faves: 7500\n",
      "Message published successfully.\n",
      "Sleeping\n",
      "Waking Up\n",
      "At request: 13  Total Tweets Collected: 3 with Min Faves: 7000\n",
      "Message published successfully.\n",
      "Sleeping\n",
      "Waking Up\n",
      "At request: 14  Total Tweets Collected: 2 with Min Faves: 6500\n",
      "Message published successfully.\n",
      "Sleeping\n",
      "Waking Up\n",
      "At request: 15  Total Tweets Collected: 28 with Min Faves: 6000\n",
      "Message published successfully.\n",
      "Sleeping\n",
      "Waking Up\n",
      "At request: 16  Total Tweets Collected: 14 with Min Faves: 5500\n",
      "Message published successfully.\n",
      "Sleeping\n",
      "Waking Up\n",
      "At request: 17  Total Tweets Collected: 51 with Min Faves: 5000\n",
      "Message published successfully.\n",
      "Sleeping\n",
      "Waking Up\n",
      "At request: 18  Total Tweets Collected: 70 with Min Faves: 4500\n",
      "Message published successfully.\n",
      "Sleeping\n",
      "Waking Up\n",
      "At request: 19  Total Tweets Collected: 14 with Min Faves: 4000\n",
      "Message published successfully.\n",
      "Sleeping\n",
      "Waking Up\n",
      "At request: 20  Total Tweets Collected: 75 with Min Faves: 3500\n",
      "Message published successfully.\n",
      "Sleeping\n",
      "Waking Up\n",
      "At request: 21  Total Tweets Collected: 42 with Min Faves: 3000\n",
      "Message published successfully.\n",
      "Sleeping\n",
      "Waking Up\n",
      "At request: 22  Total Tweets Collected: 99 with Min Faves: 2500\n",
      "Message published successfully.\n",
      "Sleeping\n",
      "Waking Up\n",
      "At request: 23  Total Tweets Collected: 97 with Min Faves: 2000\n",
      "Message published successfully.\n",
      "Sleeping\n",
      "Waking Up\n",
      "At request: 24  Total Tweets Collected: 97 with Min Faves: 1500\n",
      "Message published successfully.\n",
      "Sleeping\n",
      "Waking Up\n",
      "At request: 25  Total Tweets Collected: 97 with Min Faves: 1000\n",
      "Message published successfully.\n",
      "Sleeping\n",
      "Waking Up\n",
      "At request: 26  Total Tweets Collected: 97 with Min Faves: 500\n",
      "Message published successfully.\n",
      "Sleeping\n",
      "Waking Up\n",
      "At request: 27  Total Tweets Collected: 100 with Min Faves: 0\n"
     ]
    }
   ],
   "source": [
    "kafka_producer = connect_kafka_producer()\n",
    "\n",
    "\n",
    "while(1): \n",
    "    data = {}\n",
    "    new_data_raw = json.loads(get_tweets(min_faves))\n",
    "    try:\n",
    "        for i in new_data_raw['statuses']:\n",
    "            data[i['id']] = i\n",
    "        counter = len(new_data_raw['statuses'])\n",
    "    except Exception as ex:\n",
    "        print(\"Error at request : \" + str(req_count))\n",
    "        print(str(ex))\n",
    "    publish_message(kafka_producer, 'raw', json.dumps(data))\n",
    "    print(\"Sleeping\")\n",
    "    time.sleep(10)\n",
    "    print(\"Waking Up\")\n",
    "    print(\"At request: \" + str(req_count) + \"  Total Tweets Collected: \" + str(len(data)) + \" with Min Faves: \" + str(min_faves) )\n",
    "    if counter==100 and min_faves>10000:\n",
    "        if (change>1000):\n",
    "            change /= 2\n",
    "            min_faves += change\n",
    "        else:\n",
    "            min_faves -= change\n",
    "        \n",
    "    elif min_faves>10000:\n",
    "        min_faves -= change\n",
    "    \n",
    "    else:\n",
    "        min_faves -= interval\n",
    "        if(min_faves < 0):\n",
    "            break\n"
   ]
  },
  {
   "cell_type": "code",
   "execution_count": null,
   "metadata": {},
   "outputs": [],
   "source": []
  }
 ],
 "metadata": {
  "kernelspec": {
   "display_name": "Python 3",
   "language": "python",
   "name": "python3"
  },
  "language_info": {
   "codemirror_mode": {
    "name": "ipython",
    "version": 3
   },
   "file_extension": ".py",
   "mimetype": "text/x-python",
   "name": "python",
   "nbconvert_exporter": "python",
   "pygments_lexer": "ipython3",
   "version": "3.7.4"
  }
 },
 "nbformat": 4,
 "nbformat_minor": 2
}

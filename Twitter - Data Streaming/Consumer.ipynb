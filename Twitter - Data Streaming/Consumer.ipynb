{
 "cells": [
  {
   "cell_type": "markdown",
   "metadata": {},
   "source": [
    "# Imports"
   ]
  },
  {
   "cell_type": "code",
   "execution_count": 1,
   "metadata": {},
   "outputs": [],
   "source": [
    "import json\n",
    "import time\n",
    "import os\n",
    "import sys\n",
    "from pyspark import SparkContext, SparkConf\n",
    "from pyspark.streaming import StreamingContext\n",
    "from pyspark.streaming.kafka import KafkaUtils\n",
    "from uuid import uuid1\n",
    "\n",
    "from kafka import KafkaConsumer"
   ]
  },
  {
   "cell_type": "markdown",
   "metadata": {},
   "source": [
    "# Configuration"
   ]
  },
  {
   "cell_type": "code",
   "execution_count": 2,
   "metadata": {},
   "outputs": [],
   "source": [
    "kafka_url=\"localhost:2181\"\n",
    "topic_name= \"raw-twitter\"\n",
    "consumer_timeout= 1000"
   ]
  },
  {
   "cell_type": "markdown",
   "metadata": {},
   "source": [
    "# KeepAlive Process"
   ]
  },
  {
   "cell_type": "code",
   "execution_count": 9,
   "metadata": {},
   "outputs": [],
   "source": [
    "os.environ['PYSPARK_SUBMIT_ARGS'] = '--jars spark-streaming-kafka-0-8-assembly_2.11-2.4.4.jar pyspark-shell' #note that the \"pyspark-shell\" part is very important!!.\n",
    "sc = SparkContext(appName=\"PythonStreamingRecieverKafkaWordCount\")\n",
    "sc.setLogLevel(\"ERROR\")"
   ]
  },
  {
   "cell_type": "code",
   "execution_count": 10,
   "metadata": {
    "scrolled": false
   },
   "outputs": [
    {
     "name": "stdout",
     "output_type": "stream",
     "text": [
      "-------------------------------------------\n",
      "Time: 2020-02-09 18:09:50\n",
      "-------------------------------------------\n",
      "{}\n",
      "{}\n",
      "{\"1224804536466001920\": {\"created_at\": \"Tue Feb 04 21:18:51 +0000 2020\", \"id\": 1224804536466001920, \"id_str\": \"1224804536466001920\", \"text\": \"Aqu\\u00ed les mostramos como bailar la champeta del Halftime Show de la Super Bowl! \\nThis is how to learn the champeta w\\u2026 https://t.co/2eTrogCdqL\", \"truncated\": true, \"entities\": {\"hashtags\": [], \"symbols\": [], \"user_mentions\": [], \"urls\": [{\"url\": \"https://t.co/2eTrogCdqL\", \"expanded_url\": \"https://twitter.com/i/web/status/1224804536466001920\", \"display_url\": \"twitter.com/i/web/status/1\\u2026\", \"indices\": [117, 140]}]}, \"metadata\": {\"result_type\": \"popular\", \"iso_language_code\": \"en\"}, \"source\": \"<a href=\\\"http://twitter.com/download/iphone\\\" rel=\\\"nofollow\\\">Twitter for iPhone</a>\", \"in_reply_to_status_id\": null, \"in_reply_to_status_id_str\": null, \"in_reply_to_user_id\": null, \"in_reply_to_user_id_str\": null, \"in_reply_to_screen_name\": null, \"user\": {\"id\": 44409004, \"id_str\": \"44409004\", \"name\": \"Shakira\", \"screen_name\": \"shakira\", \"location\": \"Barranquilla\", \"description\": \"\\ud83c\\udfc8 #SBLIV HALFTIME SHOW \\ud83c\\udf99ME GUSTA Shakira & Anuel AA Nuevo Sencillo / New Single\", \"url\": \"https://t.co/V6UmcUzsdt\", \"entities\": {\"url\": {\"urls\": [{\"url\": \"https://t.co/V6UmcUzsdt\", \"expanded_url\": \"https://smarturl.it/ShakiraxAnuelAA\", \"display_url\": \"smarturl.it/ShakiraxAnuelAA\", \"indices\": [0, 23]}]}, \"description\": {\"urls\": []}}, \"protected\": false, \"followers_count\": 52008648, \"friends_count\": 210, \"listed_count\": 99073, \"created_at\": \"Wed Jun 03 17:38:07 +0000 2009\", \"favourites_count\": 1673, \"utc_offset\": null, \"time_zone\": null, \"geo_enabled\": true, \"verified\": true, \"statuses_count\": 6816, \"lang\": null, \"contributors_enabled\": false, \"is_translator\": false, \"is_translation_enabled\": true, \"profile_background_color\": \"FFFFFF\", \"profile_background_image_url\": \"http://abs.twimg.com/images/themes/theme1/bg.png\", \"profile_background_image_url_https\": \"https://abs.twimg.com/images/themes/theme1/bg.png\", \"profile_background_tile\": true, \"profile_image_url\": \"http://pbs.twimg.com/profile_images/1222604033128574977/FbW81KkS_normal.jpg\", \"profile_image_url_https\": \"https://pbs.twimg.com/profile_images/1222604033128574977/FbW81KkS_normal.jpg\", \"profile_banner_url\": \"https://pbs.twimg.com/profile_banners/44409004/1581106363\", \"profile_link_color\": \"99033A\", \"profile_sidebar_border_color\": \"000000\", \"profile_sidebar_fill_color\": \"C3E2FA\", \"profile_text_color\": \"080808\", \"profile_use_background_image\": true, \"has_extended_profile\": false, \"default_profile\": false, \"default_profile_image\": false, \"following\": false, \"follow_request_sent\": false, \"notifications\": false, \"translator_type\": \"regular\"}, \"geo\": null, \"coordinates\": null, \"place\": null, \"contributors\": null, \"is_quote_status\": false, \"retweet_count\": 6565, \"favorite_count\": 45224, \"favorited\": false, \"retweeted\": false, \"possibly_sensitive\": false, \"lang\": \"en\"}}\n",
      "\n",
      "-------------------------------------------\n",
      "Time: 2020-02-09 18:10:00\n",
      "-------------------------------------------\n",
      "{\"1224804536466001920\": {\"created_at\": \"Tue Feb 04 21:18:51 +0000 2020\", \"id\": 1224804536466001920, \"id_str\": \"1224804536466001920\", \"text\": \"Aqu\\u00ed les mostramos como bailar la champeta del Halftime Show de la Super Bowl! \\nThis is how to learn the champeta w\\u2026 https://t.co/2eTrogCdqL\", \"truncated\": true, \"entities\": {\"hashtags\": [], \"symbols\": [], \"user_mentions\": [], \"urls\": [{\"url\": \"https://t.co/2eTrogCdqL\", \"expanded_url\": \"https://twitter.com/i/web/status/1224804536466001920\", \"display_url\": \"twitter.com/i/web/status/1\\u2026\", \"indices\": [117, 140]}]}, \"metadata\": {\"iso_language_code\": \"en\", \"result_type\": \"recent\"}, \"source\": \"<a href=\\\"http://twitter.com/download/iphone\\\" rel=\\\"nofollow\\\">Twitter for iPhone</a>\", \"in_reply_to_status_id\": null, \"in_reply_to_status_id_str\": null, \"in_reply_to_user_id\": null, \"in_reply_to_user_id_str\": null, \"in_reply_to_screen_name\": null, \"user\": {\"id\": 44409004, \"id_str\": \"44409004\", \"name\": \"Shakira\", \"screen_name\": \"shakira\", \"location\": \"Barranquilla\", \"description\": \"\\ud83c\\udfc8 #SBLIV HALFTIME SHOW \\ud83c\\udf99ME GUSTA Shakira & Anuel AA Nuevo Sencillo / New Single\", \"url\": \"https://t.co/V6UmcUzsdt\", \"entities\": {\"url\": {\"urls\": [{\"url\": \"https://t.co/V6UmcUzsdt\", \"expanded_url\": \"https://smarturl.it/ShakiraxAnuelAA\", \"display_url\": \"smarturl.it/ShakiraxAnuelAA\", \"indices\": [0, 23]}]}, \"description\": {\"urls\": []}}, \"protected\": false, \"followers_count\": 52008649, \"friends_count\": 210, \"listed_count\": 99073, \"created_at\": \"Wed Jun 03 17:38:07 +0000 2009\", \"favourites_count\": 1673, \"utc_offset\": null, \"time_zone\": null, \"geo_enabled\": true, \"verified\": true, \"statuses_count\": 6816, \"lang\": null, \"contributors_enabled\": false, \"is_translator\": false, \"is_translation_enabled\": true, \"profile_background_color\": \"FFFFFF\", \"profile_background_image_url\": \"http://abs.twimg.com/images/themes/theme1/bg.png\", \"profile_background_image_url_https\": \"https://abs.twimg.com/images/themes/theme1/bg.png\", \"profile_background_tile\": true, \"profile_image_url\": \"http://pbs.twimg.com/profile_images/1222604033128574977/FbW81KkS_normal.jpg\", \"profile_image_url_https\": \"https://pbs.twimg.com/profile_images/1222604033128574977/FbW81KkS_normal.jpg\", \"profile_banner_url\": \"https://pbs.twimg.com/profile_banners/44409004/1581106363\", \"profile_link_color\": \"99033A\", \"profile_sidebar_border_color\": \"000000\", \"profile_sidebar_fill_color\": \"C3E2FA\", \"profile_text_color\": \"080808\", \"profile_use_background_image\": true, \"has_extended_profile\": false, \"default_profile\": false, \"default_profile_image\": false, \"following\": false, \"follow_request_sent\": false, \"notifications\": false, \"translator_type\": \"regular\"}, \"geo\": null, \"coordinates\": null, \"place\": null, \"contributors\": null, \"is_quote_status\": false, \"retweet_count\": 6565, \"favorite_count\": 45224, \"favorited\": false, \"retweeted\": false, \"possibly_sensitive\": false, \"lang\": \"en\"}}\n",
      "\n",
      "-------------------------------------------\n",
      "Time: 2020-02-09 18:10:10\n",
      "-------------------------------------------\n",
      "{\"1224380996016996352\": {\"created_at\": \"Mon Feb 03 17:15:52 +0000 2020\", \"id\": 1224380996016996352, \"id_str\": \"1224380996016996352\", \"text\": \"Conservatives who are crying about the #SuperBowl halftime show being \\u201cprovocative\\u201d, but support a man who brags ab\\u2026 https://t.co/pM7zZA3kHZ\", \"truncated\": true, \"entities\": {\"hashtags\": [{\"text\": \"SuperBowl\", \"indices\": [39, 49]}], \"symbols\": [], \"user_mentions\": [], \"urls\": [{\"url\": \"https://t.co/pM7zZA3kHZ\", \"expanded_url\": \"https://twitter.com/i/web/status/1224380996016996352\", \"display_url\": \"twitter.com/i/web/status/1\\u2026\", \"indices\": [117, 140]}]}, \"metadata\": {\"iso_language_code\": \"en\", \"result_type\": \"recent\"}, \"source\": \"<a href=\\\"http://twitter.com/download/iphone\\\" rel=\\\"nofollow\\\">Twitter for iPhone</a>\", \"in_reply_to_status_id\": null, \"in_reply_to_status_id_str\": null, \"in_reply_to_user_id\": null, \"in_reply_to_user_id_str\": null, \"in_reply_to_screen_name\": null, \"user\": {\"id\": 755057897583804416, \"id_str\": \"755057897583804416\", \"name\": \"Ryan Knight \\ud83c\\udff3\\ufe0f\\u200d\\ud83c\\udf08 \\ud83d\\uddfd\", \"screen_name\": \"ProudResister\", \"location\": \"Los Angeles, CA\", \"description\": \"Progressive activist | Political analyst | New Podcast #AmpedUp on @ApplePodcasts | Support my activism on https://t.co/WMYYelGfzX | DM for Media inquiries\", \"url\": \"https://t.co/C2ewEdhhTo\", \"entities\": {\"url\": {\"urls\": [{\"url\": \"https://t.co/C2ewEdhhTo\", \"expanded_url\": \"https://podcasts.apple.com/us/podcast/amped-up-with-proud-resister/id1462852734\", \"display_url\": \"podcasts.apple.com/us/podcast/amp\\u2026\", \"indices\": [0, 23]}]}, \"description\": {\"urls\": [{\"url\": \"https://t.co/WMYYelGfzX\", \"expanded_url\": \"http://Patreon.com/ProudResister\", \"display_url\": \"Patreon.com/ProudResister\", \"indices\": [107, 130]}]}}, \"protected\": false, \"followers_count\": 375694, \"friends_count\": 58344, \"listed_count\": 1982, \"created_at\": \"Mon Jul 18 15:13:26 +0000 2016\", \"favourites_count\": 337313, \"utc_offset\": null, \"time_zone\": null, \"geo_enabled\": true, \"verified\": false, \"statuses_count\": 53542, \"lang\": null, \"contributors_enabled\": false, \"is_translator\": false, \"is_translation_enabled\": false, \"profile_background_color\": \"F5F8FA\", \"profile_background_image_url\": null, \"profile_background_image_url_https\": null, \"profile_background_tile\": false, \"profile_image_url\": \"http://pbs.twimg.com/profile_images/1166115059522658304/uex2JDvW_normal.png\", \"profile_image_url_https\": \"https://pbs.twimg.com/profile_images/1166115059522658304/uex2JDvW_normal.png\", \"profile_banner_url\": \"https://pbs.twimg.com/profile_banners/755057897583804416/1579148129\", \"profile_link_color\": \"1DA1F2\", \"profile_sidebar_border_color\": \"C0DEED\", \"profile_sidebar_fill_color\": \"DDEEF6\", \"profile_text_color\": \"333333\", \"profile_use_background_image\": true, \"has_extended_profile\": true, \"default_profile\": true, \"default_profile_image\": false, \"following\": false, \"follow_request_sent\": false, \"notifications\": false, \"translator_type\": \"none\"}, \"geo\": null, \"coordinates\": null, \"place\": null, \"contributors\": null, \"is_quote_status\": false, \"retweet_count\": 4080, \"favorite_count\": 19454, \"favorited\": false, \"retweeted\": false, \"lang\": \"en\"}}\n",
      "\n"
     ]
    }
   ],
   "source": [
    "ssc = StreamingContext(sc, 10) # 10 second window\n",
    "kvs = KafkaUtils.createStream(ssc,kafka_url,\"raw\",{topic_name:1}) \n",
    "lines = kvs.map(lambda x: x[1])\n",
    "lines.pprint()\n",
    "ssc.start()\n",
    "ssc.awaitTermination(30)\n",
    "ssc.stop()"
   ]
  },
  {
   "cell_type": "code",
   "execution_count": null,
   "metadata": {},
   "outputs": [],
   "source": []
  }
 ],
 "metadata": {
  "kernelspec": {
   "display_name": "Python 3",
   "language": "python",
   "name": "python3"
  },
  "language_info": {
   "codemirror_mode": {
    "name": "ipython",
    "version": 3
   },
   "file_extension": ".py",
   "mimetype": "text/x-python",
   "name": "python",
   "nbconvert_exporter": "python",
   "pygments_lexer": "ipython3",
   "version": "3.7.4"
  }
 },
 "nbformat": 4,
 "nbformat_minor": 2
}
